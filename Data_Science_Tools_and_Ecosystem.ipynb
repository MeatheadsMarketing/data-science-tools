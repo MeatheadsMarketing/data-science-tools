{
 "cells": [
  {
   "cell_type": "markdown",
   "id": "825980bf",
   "metadata": {},
   "source": [
    "# Data Science Tools and Ecosystem"
   ]
  },
  {
   "cell_type": "markdown",
   "id": "99afa180",
   "metadata": {},
   "source": [
    "## Introduction\n",
    "This notebook provides an overview of the tools and libraries commonly used in data science."
   ]
  },
  {
   "cell_type": "markdown",
   "id": "49fa56bb",
   "metadata": {},
   "source": [
    "## Data Science Languages\n",
    "1. Python\n",
    "2. R\n",
    "3. SQL\n",
    "4. Julia\n",
    "5. Java"
   ]
  },
  {
   "cell_type": "markdown",
   "id": "810b8983",
   "metadata": {},
   "source": [
    "## Data Science Libraries\n",
    "1. NumPy\n",
    "2. Pandas\n",
    "3. Matplotlib\n",
    "4. TensorFlow\n",
    "5. PyTorch"
   ]
  },
  {
   "cell_type": "markdown",
   "id": "ff426127",
   "metadata": {},
   "source": [
    "## Data Science Tools\n",
    "| Tool          | Description                          |\n",
    "|---------------|--------------------------------------|\n",
    "| Jupyter       | Interactive notebook for data tasks  |\n",
    "| RStudio       | IDE for R programming language       |\n",
    "| Apache Spark  | Distributed computing framework      |"
   ]
  },
  {
   "cell_type": "markdown",
   "id": "d2c373f0",
   "metadata": {},
   "source": [
    "## Arithmetic Expression Examples\n",
    "Here is an example of basic arithmetic:\n",
    "\n",
    "- Addition: `2 + 3 = 5`\n",
    "- Multiplication: `4 * 6 = 24`"
   ]
  },
  {
   "cell_type": "code",
   "execution_count": null,
   "id": "80c554eb",
   "metadata": {},
   "outputs": [],
   "source": [
    "result = (5 * 2) + 10\n",
    "result"
   ]
  },
  {
   "cell_type": "code",
   "execution_count": null,
   "id": "dc1fa87f",
   "metadata": {},
   "outputs": [],
   "source": [
    "minutes = 150\n",
    "hours = minutes / 60\n",
    "hours"
   ]
  },
  {
   "cell_type": "markdown",
   "id": "3d2b1109",
   "metadata": {},
   "source": [
    "## Objectives\n",
    "- Learn the most common data science languages.\n",
    "- Understand frequently used libraries.\n",
    "- Gain familiarity with key data science tools.\n",
    "- Perform basic arithmetic operations in code."
   ]
  },
  {
   "cell_type": "markdown",
   "id": "8dc655d5",
   "metadata": {},
   "source": [
    "## Author\n",
    "Your Name"
   ]
  }
 ],
 "metadata": {},
 "nbformat": 4,
 "nbformat_minor": 5
}
